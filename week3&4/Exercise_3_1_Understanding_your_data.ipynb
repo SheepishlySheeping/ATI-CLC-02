{
  "cells": [
    {
      "cell_type": "markdown",
      "metadata": {
        "id": "ApEGsGnec6BZ"
      },
      "source": [
        "## Exercise 3.1 Understanding your data\n",
        "You will soon start building models in Keras to predict wages based on various professional and demographic factors.\n",
        "\n",
        "Before you start building a model, it's good to understand your data by performing some exploratory analysis.\n",
        "\n",
        "In this exercise, you will work with a .csv file that contains some data about workers in a company. You can download this file from the following link:\n",
        "\n",
        "[hourly_wages.csv](https://drive.google.com/file/d/1elGBb48CX728knwJzU3ImHNvtuRoG7vu/view?usp=drive_link)\n",
        "\n",
        "The data is pre-loaded into a pandas DataFrame called `df`. You can Use the `head()` and `describe()` methods for a quick overview of the DataFrame.\n",
        "\n",
        "The target variable you'll be predicting is wage_per_hour. Some of the predictor variables are binary indicators, where a value of 1 represents True, and 0 represents False.\n",
        "\n",
        "In this exercise, you will practice performing some exploratory analysis on your data to figure out: Of the 9 predictor variables in the DataFrame, how many are binary indicators?\n"
      ]
    },
    {
      "cell_type": "markdown",
      "metadata": {
        "id": "-AWPd5Wqft_d"
      },
      "source": [
        "## Instructions\n",
        "\n",
        "* The min and max values as shown by `describe()` will be informative here.\n",
        "How many binary indicator predictors are there?\n",
        "  * 0\n",
        "  * 5\n",
        "  * 6"
      ]
    },
    {
      "cell_type": "markdown",
      "metadata": {
        "id": "oKx-pAyrlVGO"
      },
      "source": [
        "## Code"
      ]
    },
    {
      "cell_type": "code",
      "execution_count": null,
      "metadata": {
        "id": "dlu9wWcWcy44"
      },
      "outputs": [],
      "source": [
        "import pandas as pd\n",
        "# Load csv file into the dataframe: df\n",
        "df = pd.read_csv(\"hourly_wages.csv\")"
      ]
    },
    {
      "cell_type": "markdown",
      "metadata": {
        "id": "u986qJ_NOK1h"
      },
      "source": [
        "Perfome exploratory analysis using `head()` and `describe()` methods"
      ]
    },
    {
      "cell_type": "code",
      "execution_count": 12,
      "metadata": {
        "id": "rdrPE2NrOjS5"
      },
      "outputs": [
        {
          "data": {
            "text/html": [
              "<div>\n",
              "<style scoped>\n",
              "    .dataframe tbody tr th:only-of-type {\n",
              "        vertical-align: middle;\n",
              "    }\n",
              "\n",
              "    .dataframe tbody tr th {\n",
              "        vertical-align: top;\n",
              "    }\n",
              "\n",
              "    .dataframe thead th {\n",
              "        text-align: right;\n",
              "    }\n",
              "</style>\n",
              "<table border=\"1\" class=\"dataframe\">\n",
              "  <thead>\n",
              "    <tr style=\"text-align: right;\">\n",
              "      <th></th>\n",
              "      <th>wage_per_hour</th>\n",
              "      <th>union</th>\n",
              "      <th>education_yrs</th>\n",
              "      <th>experience_yrs</th>\n",
              "      <th>age</th>\n",
              "      <th>female</th>\n",
              "      <th>marr</th>\n",
              "      <th>south</th>\n",
              "      <th>manufacturing</th>\n",
              "      <th>construction</th>\n",
              "    </tr>\n",
              "  </thead>\n",
              "  <tbody>\n",
              "    <tr>\n",
              "      <th>count</th>\n",
              "      <td>534.000000</td>\n",
              "      <td>534.000000</td>\n",
              "      <td>534.000000</td>\n",
              "      <td>534.000000</td>\n",
              "      <td>534.000000</td>\n",
              "      <td>534.000000</td>\n",
              "      <td>534.000000</td>\n",
              "      <td>534.000000</td>\n",
              "      <td>534.000000</td>\n",
              "      <td>534.000000</td>\n",
              "    </tr>\n",
              "    <tr>\n",
              "      <th>mean</th>\n",
              "      <td>9.024064</td>\n",
              "      <td>0.179775</td>\n",
              "      <td>13.018727</td>\n",
              "      <td>17.822097</td>\n",
              "      <td>36.833333</td>\n",
              "      <td>0.458801</td>\n",
              "      <td>0.655431</td>\n",
              "      <td>0.292135</td>\n",
              "      <td>0.185393</td>\n",
              "      <td>0.044944</td>\n",
              "    </tr>\n",
              "    <tr>\n",
              "      <th>std</th>\n",
              "      <td>5.139097</td>\n",
              "      <td>0.384360</td>\n",
              "      <td>2.615373</td>\n",
              "      <td>12.379710</td>\n",
              "      <td>11.726573</td>\n",
              "      <td>0.498767</td>\n",
              "      <td>0.475673</td>\n",
              "      <td>0.455170</td>\n",
              "      <td>0.388981</td>\n",
              "      <td>0.207375</td>\n",
              "    </tr>\n",
              "    <tr>\n",
              "      <th>min</th>\n",
              "      <td>1.000000</td>\n",
              "      <td>0.000000</td>\n",
              "      <td>2.000000</td>\n",
              "      <td>0.000000</td>\n",
              "      <td>18.000000</td>\n",
              "      <td>0.000000</td>\n",
              "      <td>0.000000</td>\n",
              "      <td>0.000000</td>\n",
              "      <td>0.000000</td>\n",
              "      <td>0.000000</td>\n",
              "    </tr>\n",
              "    <tr>\n",
              "      <th>25%</th>\n",
              "      <td>5.250000</td>\n",
              "      <td>0.000000</td>\n",
              "      <td>12.000000</td>\n",
              "      <td>8.000000</td>\n",
              "      <td>28.000000</td>\n",
              "      <td>0.000000</td>\n",
              "      <td>0.000000</td>\n",
              "      <td>0.000000</td>\n",
              "      <td>0.000000</td>\n",
              "      <td>0.000000</td>\n",
              "    </tr>\n",
              "    <tr>\n",
              "      <th>50%</th>\n",
              "      <td>7.780000</td>\n",
              "      <td>0.000000</td>\n",
              "      <td>12.000000</td>\n",
              "      <td>15.000000</td>\n",
              "      <td>35.000000</td>\n",
              "      <td>0.000000</td>\n",
              "      <td>1.000000</td>\n",
              "      <td>0.000000</td>\n",
              "      <td>0.000000</td>\n",
              "      <td>0.000000</td>\n",
              "    </tr>\n",
              "    <tr>\n",
              "      <th>75%</th>\n",
              "      <td>11.250000</td>\n",
              "      <td>0.000000</td>\n",
              "      <td>15.000000</td>\n",
              "      <td>26.000000</td>\n",
              "      <td>44.000000</td>\n",
              "      <td>1.000000</td>\n",
              "      <td>1.000000</td>\n",
              "      <td>1.000000</td>\n",
              "      <td>0.000000</td>\n",
              "      <td>0.000000</td>\n",
              "    </tr>\n",
              "    <tr>\n",
              "      <th>max</th>\n",
              "      <td>44.500000</td>\n",
              "      <td>1.000000</td>\n",
              "      <td>18.000000</td>\n",
              "      <td>55.000000</td>\n",
              "      <td>64.000000</td>\n",
              "      <td>1.000000</td>\n",
              "      <td>1.000000</td>\n",
              "      <td>1.000000</td>\n",
              "      <td>1.000000</td>\n",
              "      <td>1.000000</td>\n",
              "    </tr>\n",
              "  </tbody>\n",
              "</table>\n",
              "</div>"
            ],
            "text/plain": [
              "       wage_per_hour       union  education_yrs  experience_yrs         age  \\\n",
              "count     534.000000  534.000000     534.000000      534.000000  534.000000   \n",
              "mean        9.024064    0.179775      13.018727       17.822097   36.833333   \n",
              "std         5.139097    0.384360       2.615373       12.379710   11.726573   \n",
              "min         1.000000    0.000000       2.000000        0.000000   18.000000   \n",
              "25%         5.250000    0.000000      12.000000        8.000000   28.000000   \n",
              "50%         7.780000    0.000000      12.000000       15.000000   35.000000   \n",
              "75%        11.250000    0.000000      15.000000       26.000000   44.000000   \n",
              "max        44.500000    1.000000      18.000000       55.000000   64.000000   \n",
              "\n",
              "           female        marr       south  manufacturing  construction  \n",
              "count  534.000000  534.000000  534.000000     534.000000    534.000000  \n",
              "mean     0.458801    0.655431    0.292135       0.185393      0.044944  \n",
              "std      0.498767    0.475673    0.455170       0.388981      0.207375  \n",
              "min      0.000000    0.000000    0.000000       0.000000      0.000000  \n",
              "25%      0.000000    0.000000    0.000000       0.000000      0.000000  \n",
              "50%      0.000000    1.000000    0.000000       0.000000      0.000000  \n",
              "75%      1.000000    1.000000    1.000000       0.000000      0.000000  \n",
              "max      1.000000    1.000000    1.000000       1.000000      1.000000  "
            ]
          },
          "execution_count": 12,
          "metadata": {},
          "output_type": "execute_result"
        }
      ],
      "source": [
        "import pandas as pd\n",
        "# Load csv file into the dataframe: df\n",
        "df = pd.read_csv(\"hourly_wages.csv\")\n",
        "df.describe()\n",
        "#Union, Female, Marr, South, Manufacturing & Construction all have min and max values of 0 and 1, respectively.\n",
        "#Indicating they are binary attributes. 6 binary predictors total."
      ]
    },
    {
      "cell_type": "code",
      "execution_count": null,
      "metadata": {
        "id": "FjXkX0-BdKsi"
      },
      "outputs": [],
      "source": []
    }
  ],
  "metadata": {
    "colab": {
      "provenance": []
    },
    "kernelspec": {
      "display_name": ".venv",
      "language": "python",
      "name": "python3"
    },
    "language_info": {
      "codemirror_mode": {
        "name": "ipython",
        "version": 3
      },
      "file_extension": ".py",
      "mimetype": "text/x-python",
      "name": "python",
      "nbconvert_exporter": "python",
      "pygments_lexer": "ipython3",
      "version": "3.12.6"
    }
  },
  "nbformat": 4,
  "nbformat_minor": 0
}
